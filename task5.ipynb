{
 "cells": [
  {
   "cell_type": "code",
   "execution_count": 1,
   "id": "da9d6fd8",
   "metadata": {},
   "outputs": [
    {
     "name": "stdout",
     "output_type": "stream",
     "text": [
      "4\n",
      "4.000\n",
      "-1.00\n",
      "+4.545\n",
      "SomeRandomStuff\n",
      "True\n",
      "True\n",
      "True\n",
      "False\n"
     ]
    }
   ],
   "source": [
    "#detecting floating point\n",
    "import re\n",
    "def main():\n",
    "    pattern = r'^[+-.]\\d+\\.\\d+|\\d+\\.\\d+$|[+-]\\.\\d+'\n",
    "    t = int(input())\n",
    "    op = ['False']*t\n",
    "    for i in range(t):\n",
    "        num = input()\n",
    "        if re.match(pattern,num):\n",
    "            op[i] = 'True'\n",
    "    for i in op:\n",
    "        print(i)\n",
    "if __name__ == '__main__':\n",
    "    main()\n",
    "\n",
    "# 4\n",
    "# 4.0O0\n",
    "# -1.00\n",
    "# +4.54\n",
    "# SomeRandomStuff\n"
   ]
  },
  {
   "cell_type": "code",
   "execution_count": 3,
   "id": "4dfd5797",
   "metadata": {},
   "outputs": [
    {
     "name": "stdout",
     "output_type": "stream",
     "text": [
      "100,000,000.000\n",
      "100\n",
      "000\n",
      "000\n",
      "000\n"
     ]
    }
   ],
   "source": [
    "#re.split()\n",
    "regex_pattern = r\"[,.]\"\t# Do not delete 'r'.\n",
    "\n",
    "import re\n",
    "print(\"\\n\".join(re.split(regex_pattern, input())))\n",
    "\n",
    "#100,000,000.000"
   ]
  },
  {
   "cell_type": "code",
   "execution_count": 4,
   "id": "0fc5a932",
   "metadata": {},
   "outputs": [
    {
     "name": "stdout",
     "output_type": "stream",
     "text": [
      "..12345678910111213141516171820212223\n",
      "1\n"
     ]
    }
   ],
   "source": [
    "#group(),groups() & groupdict()\n",
    "import re\n",
    "s = input()\n",
    "m = re.search(r\"([a-z0-9])\\1{1,}\", s)\n",
    "if m:\n",
    "    print(m.group(1))\n",
    "else:\n",
    "    print('-1')\n",
    "    \n",
    "    \n",
    "#..12345678910111213141516171820212223"
   ]
  },
  {
   "cell_type": "code",
   "execution_count": 5,
   "id": "ddd455d3",
   "metadata": {},
   "outputs": [
    {
     "name": "stdout",
     "output_type": "stream",
     "text": [
      "rabcdeefgyYhFjkIoomnpOeorteeeeet\n",
      "ee\n",
      "Ioo\n",
      "Oeo\n",
      "eeeee\n"
     ]
    }
   ],
   "source": [
    "#re.findall() & re.finditer(\n",
    "import re\n",
    "s = input()\n",
    "op = re.findall(r'[aeiouAEIOU]{2,}[^aeiouAEIOU$]',s)\n",
    "if op:\n",
    "    [print(i[:-1]) for i in op]\n",
    "        \n",
    "else:\n",
    "    print(-1)\n",
    "    \n",
    "    \n",
    "#rabcdeefgyYhFjkIoomnpOeorteeeeet"
   ]
  },
  {
   "cell_type": "code",
   "execution_count": 6,
   "id": "af08b2ed",
   "metadata": {},
   "outputs": [
    {
     "name": "stdout",
     "output_type": "stream",
     "text": [
      "aaadaa\n",
      "aa\n",
      "(0, 1)\n",
      "(1, 2)\n",
      "(4, 5)\n"
     ]
    }
   ],
   "source": [
    "#re.start() & re.end()\n",
    "import re\n",
    "s = input()\n",
    "k = re.compile(input())\n",
    "m = k.search(s)\n",
    "if not m:\n",
    "    print((-1,-1))\n",
    "while m:\n",
    "    print((m.start(),m.end()-1))\n",
    "    m = k.search(s,m.start()+1)\n",
    "    \n",
    "\n",
    "#aaadaa\n",
    "# aa"
   ]
  },
  {
   "cell_type": "code",
   "execution_count": 7,
   "id": "7eef6480",
   "metadata": {},
   "outputs": [
    {
     "name": "stdout",
     "output_type": "stream",
     "text": [
      "11\n",
      "a = 1\n",
      "a = 1\n",
      "b = input();\n",
      "b = input();\n",
      "if a + b > 0 && a - b < 0:\n",
      "if a + b > 0 and a - b < 0:\n",
      "   start()\n",
      "   start()\n",
      " elif a*b > 10 || a/b < 1:\n",
      " elif a*b > 10 or a/b < 1:\n",
      "stop()\n",
      "stop()\n",
      "print set(list(a)) | set(list(b))\n",
      "print set(list(a)) | set(list(b))\n",
      "#Note do not change &&& or ||| or & or |\n",
      "#Note do not change and& or or| or & or |\n",
      "#Only change those '&&' which have space on both sides.\n",
      "#Only change those '&&' which have space on both sides.\n",
      "#Only change those '|| which have space on both sides.\n",
      "#Only change those '|| which have space on both sides.\n",
      "stop\n",
      "stop\n"
     ]
    }
   ],
   "source": [
    "#regex substituton\n",
    "import re\n",
    "def rep(match):\n",
    "    if match.group(0)=='&&':\n",
    "          return 'and'\n",
    "    if match.group(0)=='||':\n",
    "        return 'or'\n",
    "if __name__ == '__main__':\n",
    "    n = int(input())\n",
    "    for _ in range(n):\n",
    "        s = input()\n",
    "        print(re.sub(r'((?<= )\\&\\&)|((?<= )\\|\\|)',rep,s))\n",
    "        \n",
    "# 11\n",
    "# a = 1;\n",
    "# b = input();\n",
    "# if a + b > 0 && a - b < 0:\n",
    "#     start()\n",
    "# elif a*b > 10 || a/b < 1:\n",
    "#     stop()\n",
    "# print set(list(a)) | set(list(b))\n",
    "# #Note do not change &&& or ||| or & or |\n",
    "# #Only change those '&&' which have space on both sides.\n",
    "# #Only change those '|| which have space on both sides.\n"
   ]
  },
  {
   "cell_type": "code",
   "execution_count": 8,
   "id": "030071e0",
   "metadata": {},
   "outputs": [
    {
     "name": "stdout",
     "output_type": "stream",
     "text": [
      "CDXXI\n",
      "True\n"
     ]
    }
   ],
   "source": [
    "#validating roman numerals\n",
    "regex_pattern = r'^M{0,3}(CM|CD|D?C{0,3})(XC|XL|L?X{0,3})(IX|IV|V?I{0,3})$'\n",
    "\n",
    "import re\n",
    "print(str(bool(re.match(regex_pattern, input()))))\n",
    "\n",
    "# CDXXI"
   ]
  },
  {
   "cell_type": "code",
   "execution_count": 9,
   "id": "242f4f91",
   "metadata": {},
   "outputs": [
    {
     "name": "stdout",
     "output_type": "stream",
     "text": [
      "2\n",
      "9587456281\n",
      "YES\n",
      "1252478965\n",
      "NO\n"
     ]
    }
   ],
   "source": [
    "#validating phone number\n",
    "import re\n",
    "regex_exp = r'^[789]\\d{9}$'\n",
    "n = int(input())\n",
    "for _ in range(n):\n",
    "    num = input()\n",
    "    if re.match(regex_exp,num):\n",
    "        print('YES')\n",
    "    else:\n",
    "        print('NO')\n",
    "        \n",
    "# 2\n",
    "# 9587456281\n",
    "# 1252478965"
   ]
  },
  {
   "cell_type": "code",
   "execution_count": 10,
   "id": "68660f5f",
   "metadata": {},
   "outputs": [
    {
     "name": "stdout",
     "output_type": "stream",
     "text": [
      "2\n",
      "DEXTER <dexter@hotmail.com>\n",
      "DEXTER <dexter@hotmail.com>\n",
      "VIRUS <virus!@variable.:p>\n"
     ]
    }
   ],
   "source": [
    "#validating and parsing email\n",
    "import re\n",
    "n = int(input())\n",
    "for _ in range(n):\n",
    "    name,mail = input().split()\n",
    "    reg_m=r\"<[a-zA-Z][-_.a-zA-Z\\d]+@[a-zA-Z]+[.][a-zA-Z]{1,3}>\"\n",
    "    if re.match(reg_m,mail):\n",
    "        print(name,mail)\n",
    "        \n",
    "# 2  \n",
    "# DEXTER <dexter@hotmail.com>\n",
    "# VIRUS <virus!@variable.:p>"
   ]
  },
  {
   "cell_type": "code",
   "execution_count": 11,
   "id": "6979ce91",
   "metadata": {},
   "outputs": [
    {
     "name": "stdout",
     "output_type": "stream",
     "text": [
      "11\n",
      "#BED\n",
      "{\n",
      "color: #FfFdF8; background-color:#aef;\n",
      "#FfFdF8\n",
      "#aef\n",
      "font-size: 123px;\n",
      "background: -webkit-linear-gradient(top, #f9f9f9, #fff);\n",
      "#f9f9f9\n",
      "#fff\n",
      "}\n",
      "#Cab\n",
      "{\n",
      "background-color: #ABC;\n",
      "#ABC\n",
      "border: 2px dashed #fff;\n",
      "#fff\n",
      "}\n"
     ]
    }
   ],
   "source": [
    "#hex colour\n",
    "import re\n",
    "n = int(input())\n",
    "for _ in range(n):\n",
    "    s = input()\n",
    "    reg = re.compile(r'(?<=.)#[0-9a-fA-F]{3,6}')\n",
    "    m = re.findall(reg,s)\n",
    "    [print(i) for i in m]\n",
    "    \n",
    "# 11\n",
    "# #BED\n",
    "# {\n",
    "#     color: #FfFdF8; background-color:#aef;\n",
    "#     font-size: 123px;\n",
    "#     background: -webkit-linear-gradient(top, #f9f9f9, #fff);\n",
    "# }\n",
    "# #Cab\n",
    "# {\n",
    "#     background-color: #ABC;\n",
    "#     border: 2px dashed #fff;\n",
    "# }   "
   ]
  },
  {
   "cell_type": "code",
   "execution_count": 12,
   "id": "f5a8864b",
   "metadata": {},
   "outputs": [
    {
     "name": "stdout",
     "output_type": "stream",
     "text": [
      "2\n",
      " <html><head><title>HTML Parser - I</title></head>\n",
      "Start : html\n",
      "Start : head\n",
      "Start : title\n",
      "End   : title\n",
      "End   : head\n",
      " <body data-modal-target class='1'><h1>HackerRank</h1><br /></body></html>\n",
      "Start : body\n",
      "-> data-modal-target > None\n",
      "-> class > 1\n",
      "Start : h1\n",
      "End   : h1\n",
      "Empty : br\n",
      "End   : body\n",
      "End   : html\n"
     ]
    }
   ],
   "source": [
    "#html parser\n",
    "from html.parser import HTMLParser\n",
    "\n",
    "class MyHTMLParser(HTMLParser):\n",
    "    def handle_starttag(self, tag, attrs):\n",
    "        print(\"Start :\", tag)\n",
    "        for name, value in attrs:\n",
    "            print(f\"-> {name} > {value}\")\n",
    "    def handle_endtag(self, tag):\n",
    "        print(\"End   :\", tag)\n",
    "        \n",
    "    def handle_startendtag(self, tag, attrs):\n",
    "        print(\"Empty :\", tag)\n",
    "        for name, value in attrs:\n",
    "            print(f\"-> {name} > {value}\")\n",
    "    \n",
    "parser = MyHTMLParser()\n",
    "n = int(input())\n",
    "for _ in range(n):\n",
    "    parser.feed(input())\n",
    "    \n",
    "# 2\n",
    "# <html><head><title>HTML Parser - I</title></head>\n",
    "# <body data-modal-target class='1'><h1>HackerRank</h1><br /></body></html>    \n",
    "    "
   ]
  },
  {
   "cell_type": "code",
   "execution_count": 13,
   "id": "7a35c6e2",
   "metadata": {},
   "outputs": [
    {
     "name": "stdout",
     "output_type": "stream",
     "text": [
      "2\n",
      "<html><head><title>HTML Parser - I</title></head>\n",
      "<body data-modal-target class='1'><h1>HackerRank</h1><br /></body></html>\n",
      "HTML Parser - I\n",
      "\n",
      "\n",
      "HackerRank\n",
      "\n",
      "\n"
     ]
    }
   ],
   "source": [
    "#html parser 2\n",
    "from html.parser import HTMLParser\n",
    "\n",
    "class MyHTMLParser(HTMLParser):\n",
    "    def handle_data(self, data):\n",
    "        print(data)\n",
    "    def handle_comment(self, data):\n",
    "        l = data.split()\n",
    "        if l>=2:\n",
    "            print('Multi-line Comment')\n",
    "            print(data)\n",
    "        else:\n",
    "            print(data)\n",
    "html = \"\"       \n",
    "for i in range(int(input())):\n",
    "    html += input().rstrip()\n",
    "    html += '\\n'\n",
    "    \n",
    "parser = MyHTMLParser()\n",
    "parser.feed(html)\n",
    "parser.close()\n",
    "\n",
    "# 2\n",
    "# <html><head><title>HTML Parser - I</title></head>\n",
    "# <body data-modal-target class='1'><h1>HackerRank</h1><br /></body></html>    \n",
    "    "
   ]
  },
  {
   "cell_type": "code",
   "execution_count": 14,
   "id": "731dca6a",
   "metadata": {},
   "outputs": [
    {
     "name": "stdout",
     "output_type": "stream",
     "text": [
      "2\n",
      "<html><head><title>HTML Parser - I</title></head>\n",
      "html\n",
      "head\n",
      "title\n",
      " <body data-modal-target class='1'><h1>HackerRank</h1><br /></body></html> \n",
      "body\n",
      "-> data-modal-target > None\n",
      "-> class > 1\n",
      "h1\n",
      "br\n"
     ]
    }
   ],
   "source": [
    "#detect html tags,attributes and attribute values\n",
    "from html.parser import HTMLParser\n",
    "\n",
    "class MyHTMLParser(HTMLParser):\n",
    "    def handle_starttag(self, tag, attrs):\n",
    "        print(tag)\n",
    "        for name, value in attrs:\n",
    "            print(f\"-> {name} > {value}\")\n",
    "    \n",
    "    \n",
    "parser = MyHTMLParser()\n",
    "n = int(input())\n",
    "for _ in range(n):\n",
    "    parser.feed(input())\n",
    "    \n",
    " # 2\n",
    "# <html><head><title>HTML Parser - I</title></head>\n",
    "# <body data-modal-target class='1'><h1>HackerRank</h1><br /></body></html>    \n",
    "       "
   ]
  },
  {
   "cell_type": "code",
   "execution_count": 15,
   "id": "cf915eee",
   "metadata": {},
   "outputs": [
    {
     "name": "stdout",
     "output_type": "stream",
     "text": [
      "2\n",
      "B1CD102354\n",
      "Invalid\n",
      "B1CDEF2354\n",
      "Valid\n"
     ]
    }
   ],
   "source": [
    "#valid upi id\n",
    "import re\n",
    "n = int(input())\n",
    "for _ in range(n):\n",
    "    s = input()\n",
    "    if  len(s) == 10:\n",
    "        if bool(re.search(r'[A-Z]{2,}',s)) and bool(re.search(r'[0-9]{3,}',s)):\n",
    "            if re.search(r'(.).*\\1.*',s):\n",
    "                print('Invalid')\n",
    "            else:\n",
    "                print('Valid')\n",
    "        else:\n",
    "            print('Invalid')\n",
    "    else:\n",
    "        print('Invalid')\n",
    "    \n",
    "\n",
    "# 2\n",
    "# B1CD102354\n",
    "# B1CDEF2354  "
   ]
  },
  {
   "cell_type": "code",
   "execution_count": 1,
   "id": "c4de385f",
   "metadata": {},
   "outputs": [
    {
     "name": "stdout",
     "output_type": "stream",
     "text": [
      "3\n",
      "4253625879615786\n",
      "Valid\n",
      "4424424424442444\n",
      "Valid\n",
      "51122-2368-7954-3214 \n",
      "Invalid\n"
     ]
    }
   ],
   "source": [
    "#validating credit card numbers\n",
    "import re\n",
    "n = int(input())\n",
    "for _ in range(n):\n",
    "    s = input()\n",
    "    reg = re.compile(r\"^([456][\\d+]{3})-([\\d+]{4})-([\\d+]{4})-([\\d+]{4})$|^([456][\\d+]{15})$\")\n",
    "    if reg.match(s):\n",
    "        s = ''.join([i for i in s if i != '-'])\n",
    "        if all([False if i*4 in s  else True for i in set(s)]):\n",
    "            print(\"Valid\")\n",
    "        else:\n",
    "            print(\"Invalid\")\n",
    "    else:\n",
    "        print(\"Invalid\") \n",
    "        \n",
    "        \n",
    "#4253625879615786\n",
    "# 4424424424442444\n",
    "# 5122-2368-7954-3214        \n"
   ]
  }
 ],
 "metadata": {
  "kernelspec": {
   "display_name": "Python 3 (ipykernel)",
   "language": "python",
   "name": "python3"
  },
  "language_info": {
   "codemirror_mode": {
    "name": "ipython",
    "version": 3
   },
   "file_extension": ".py",
   "mimetype": "text/x-python",
   "name": "python",
   "nbconvert_exporter": "python",
   "pygments_lexer": "ipython3",
   "version": "3.9.12"
  }
 },
 "nbformat": 4,
 "nbformat_minor": 5
}
